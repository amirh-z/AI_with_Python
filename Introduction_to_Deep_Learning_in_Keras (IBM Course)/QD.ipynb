{
 "cells": [
  {
   "cell_type": "markdown",
   "id": "e1c79019-183d-4dff-b359-88bb752239b4",
   "metadata": {},
   "source": [
    "## QD"
   ]
  },
  {
   "cell_type": "markdown",
   "id": "8592b616-c93d-4bae-876f-cfb0466dbdc2",
   "metadata": {},
   "source": [
    "D. Increase the number of hidden layers (5 marks)\n",
    "\n",
    "Repeat part B but use a neural network with the following instead:\n",
    "\n",
    "- Three hidden layers, each of 10 nodes and ReLU activation function.\n",
    "\n",
    "How does the mean of the mean squared errors compare to that from Step B?"
   ]
  },
  {
   "cell_type": "code",
   "execution_count": 1,
   "id": "9f1581bf-1725-4f1b-aa32-3b4ff7d07c34",
   "metadata": {},
   "outputs": [
    {
     "name": "stderr",
     "output_type": "stream",
     "text": [
      "2024-03-06 22:59:55.168658: I tensorflow/core/platform/cpu_feature_guard.cc:182] This TensorFlow binary is optimized to use available CPU instructions in performance-critical operations.\n",
      "To enable the following instructions: AVX2 FMA, in other operations, rebuild TensorFlow with the appropriate compiler flags.\n"
     ]
    }
   ],
   "source": [
    "from keras.models import Sequential\n",
    "from keras.layers import Dense\n",
    "from sklearn.model_selection import train_test_split\n",
    "from sklearn.metrics import mean_squared_error\n",
    "import numpy as np\n",
    "import pandas as pd"
   ]
  },
  {
   "cell_type": "code",
   "execution_count": 2,
   "id": "f8e3d3a6-5043-4495-84c4-daaae0ff805f",
   "metadata": {},
   "outputs": [],
   "source": [
    "concrete_data = pd.read_csv('concrete_data.csv')"
   ]
  },
  {
   "cell_type": "code",
   "execution_count": 3,
   "id": "33bdfb53-f600-4f89-95c0-888dccebfab7",
   "metadata": {},
   "outputs": [],
   "source": [
    "concrete_data_columns = concrete_data.columns\n",
    "predictors = concrete_data[concrete_data_columns[concrete_data_columns != 'Strength']] # all columns except Strength\n",
    "target = concrete_data['Strength'] # Strength column\n",
    "predictors_norm = (predictors - predictors.mean()) / predictors.std()"
   ]
  },
  {
   "cell_type": "code",
   "execution_count": 7,
   "id": "5c5eeb19-a5ab-48f7-a35a-fb2283ad5e37",
   "metadata": {},
   "outputs": [],
   "source": [
    "n_cols = predictors.shape[1]\n",
    "# define regression model\n",
    "def regression_model():\n",
    "    # create model\n",
    "    model = Sequential()\n",
    "    model.add(Dense(10, activation='relu', input_shape=(n_cols,)))\n",
    "    model.add(Dense(10, activation='relu'))\n",
    "    model.add(Dense(10, activation='relu'))\n",
    "    model.add(Dense(1))\n",
    "    \n",
    "    # compile model\n",
    "    model.compile(optimizer='adam', loss='mean_squared_error')\n",
    "    return model"
   ]
  },
  {
   "cell_type": "code",
   "execution_count": 8,
   "id": "9bb163ee-962f-4a67-b501-d3ff5508ecf1",
   "metadata": {},
   "outputs": [],
   "source": [
    "X_train, X_test, y_train, y_test = train_test_split(predictors_norm, target, test_size=0.3, random_state=42)"
   ]
  },
  {
   "cell_type": "code",
   "execution_count": 9,
   "id": "6ca74a99-6bd5-4eeb-bf58-11eff3d90e9a",
   "metadata": {},
   "outputs": [],
   "source": [
    "model = regression_model()"
   ]
  },
  {
   "cell_type": "code",
   "execution_count": 10,
   "id": "741c9011-5c5c-4007-be07-74064ae5d46e",
   "metadata": {},
   "outputs": [
    {
     "name": "stdout",
     "output_type": "stream",
     "text": [
      "MSE 1: 131.16001892089844\n",
      "10/10 [==============================] - 0s 1ms/step\n",
      "MSE 2: 122.41537475585938\n",
      "10/10 [==============================] - 0s 2ms/step\n",
      "MSE 3: 64.43778991699219\n",
      "10/10 [==============================] - 0s 889us/step\n",
      "MSE 4: 53.685882568359375\n",
      "10/10 [==============================] - 0s 879us/step\n",
      "MSE 5: 43.18946075439453\n",
      "10/10 [==============================] - 0s 908us/step\n",
      "MSE 6: 42.26885986328125\n",
      "10/10 [==============================] - 0s 926us/step\n",
      "MSE 7: 44.27593231201172\n",
      "10/10 [==============================] - 0s 1ms/step\n",
      "MSE 8: 33.87882995605469\n",
      "10/10 [==============================] - 0s 887us/step\n",
      "MSE 9: 36.740577697753906\n",
      "10/10 [==============================] - 0s 940us/step\n",
      "MSE 10: 37.12284469604492\n",
      "10/10 [==============================] - 0s 2ms/step\n",
      "MSE 11: 34.32394790649414\n",
      "10/10 [==============================] - 0s 1ms/step\n",
      "MSE 12: 27.989713668823242\n",
      "10/10 [==============================] - 0s 899us/step\n",
      "MSE 13: 37.35859680175781\n",
      "10/10 [==============================] - 0s 1ms/step\n",
      "MSE 14: 36.379600524902344\n",
      "10/10 [==============================] - 0s 876us/step\n",
      "MSE 15: 31.98508644104004\n",
      "10/10 [==============================] - 0s 883us/step\n",
      "MSE 16: 26.271608352661133\n",
      "10/10 [==============================] - 0s 874us/step\n",
      "MSE 17: 29.180273056030273\n",
      "10/10 [==============================] - 0s 1ms/step\n",
      "MSE 18: 30.11879539489746\n",
      "10/10 [==============================] - 0s 1ms/step\n",
      "MSE 19: 30.026756286621094\n",
      "10/10 [==============================] - 0s 1ms/step\n",
      "MSE 20: 30.334758758544922\n",
      "10/10 [==============================] - 0s 869us/step\n",
      "MSE 21: 26.59173011779785\n",
      "10/10 [==============================] - 0s 1ms/step\n",
      "MSE 22: 27.324647903442383\n",
      "10/10 [==============================] - 0s 1ms/step\n",
      "MSE 23: 26.981388092041016\n",
      "10/10 [==============================] - 0s 2ms/step\n",
      "MSE 24: 26.62950897216797\n",
      "10/10 [==============================] - 0s 1ms/step\n",
      "MSE 25: 28.20541000366211\n",
      "10/10 [==============================] - 0s 2ms/step\n",
      "MSE 26: 29.990556716918945\n",
      "10/10 [==============================] - 0s 878us/step\n",
      "MSE 27: 22.275718688964844\n",
      "10/10 [==============================] - 0s 1ms/step\n",
      "MSE 28: 25.538352966308594\n",
      "10/10 [==============================] - 0s 992us/step\n",
      "MSE 29: 28.649168014526367\n",
      "10/10 [==============================] - 0s 856us/step\n",
      "MSE 30: 25.633888244628906\n",
      "10/10 [==============================] - 0s 942us/step\n",
      "MSE 31: 26.394433975219727\n",
      "10/10 [==============================] - 0s 1ms/step\n",
      "MSE 32: 22.19320297241211\n",
      "10/10 [==============================] - 0s 2ms/step\n",
      "MSE 33: 21.581268310546875\n",
      "10/10 [==============================] - 0s 1ms/step\n",
      "MSE 34: 26.982254028320312\n",
      "10/10 [==============================] - 0s 2ms/step\n",
      "MSE 35: 26.217824935913086\n",
      "10/10 [==============================] - 0s 928us/step\n",
      "MSE 36: 30.020511627197266\n",
      "10/10 [==============================] - 0s 887us/step\n",
      "MSE 37: 21.475740432739258\n",
      "10/10 [==============================] - 0s 849us/step\n",
      "MSE 38: 26.884910583496094\n",
      "10/10 [==============================] - 0s 839us/step\n",
      "MSE 39: 26.08189582824707\n",
      "10/10 [==============================] - 0s 937us/step\n",
      "MSE 40: 19.92402458190918\n",
      "10/10 [==============================] - 0s 929us/step\n",
      "MSE 41: 25.727977752685547\n",
      "10/10 [==============================] - 0s 1ms/step\n",
      "MSE 42: 21.46771812438965\n",
      "10/10 [==============================] - 0s 1ms/step\n",
      "MSE 43: 24.23665428161621\n",
      "10/10 [==============================] - 0s 1ms/step\n",
      "MSE 44: 27.29478645324707\n",
      "10/10 [==============================] - 0s 848us/step\n",
      "MSE 45: 24.959415435791016\n",
      "10/10 [==============================] - 0s 854us/step\n",
      "MSE 46: 24.84366798400879\n",
      "10/10 [==============================] - 0s 836us/step\n",
      "MSE 47: 22.59295082092285\n",
      "10/10 [==============================] - 0s 851us/step\n",
      "MSE 48: 23.577312469482422\n",
      "10/10 [==============================] - 0s 872us/step\n",
      "MSE 49: 24.557802200317383\n",
      "10/10 [==============================] - 0s 825us/step\n",
      "MSE 50: 23.03805160522461\n",
      "10/10 [==============================] - 0s 845us/step\n",
      "\n",
      "\n",
      "Below is the mean and standard deviation of 50 mean squared errors with normalized data. Total number of epochs for each training session is: 50\n",
      "\n",
      "Mean: 33.62034937261832\n",
      "Standard Deviation: 20.741022016776427\n"
     ]
    }
   ],
   "source": [
    "total_mean_squared_errors = 50\n",
    "epochs = 50\n",
    "mean_squared_errors = []\n",
    "for i in range(0, total_mean_squared_errors):\n",
    "    X_train, X_test, y_train, y_test = train_test_split(predictors_norm, target, test_size=0.3, random_state=i)\n",
    "    model.fit(X_train, y_train, epochs=epochs, verbose=0)\n",
    "    MSE = model.evaluate(X_test, y_test, verbose=0)\n",
    "    print(\"MSE \"+str(i+1)+\": \"+str(MSE))\n",
    "    y_pred = model.predict(X_test)\n",
    "    mean_square_error = mean_squared_error(y_test, y_pred)\n",
    "    mean_squared_errors.append(mean_square_error)\n",
    "\n",
    "mean_squared_errors = np.array(mean_squared_errors)\n",
    "mean = np.mean(mean_squared_errors)\n",
    "standard_deviation = np.std(mean_squared_errors)\n",
    "\n",
    "print('\\n')\n",
    "print(\"Below is the mean and standard deviation of \" +str(total_mean_squared_errors) + \" mean squared errors with normalized data. Total number of epochs for each training session is: \" +str(epochs) + \"\\n\")\n",
    "print(\"Mean: \"+str(mean))\n",
    "print(\"Standard Deviation: \"+str(standard_deviation))"
   ]
  },
  {
   "cell_type": "markdown",
   "id": "be767d92-1190-45c0-8062-f226378d66a4",
   "metadata": {},
   "source": [
    "By changing the model arch, mean stayed nearly the same, however, std deviation increased."
   ]
  },
  {
   "cell_type": "code",
   "execution_count": null,
   "id": "9256f1c7-5c57-4949-9920-ff5d1178fa97",
   "metadata": {},
   "outputs": [],
   "source": []
  }
 ],
 "metadata": {
  "kernelspec": {
   "display_name": "Python 3 (ipykernel)",
   "language": "python",
   "name": "python3"
  },
  "language_info": {
   "codemirror_mode": {
    "name": "ipython",
    "version": 3
   },
   "file_extension": ".py",
   "mimetype": "text/x-python",
   "name": "python",
   "nbconvert_exporter": "python",
   "pygments_lexer": "ipython3",
   "version": "3.11.4"
  }
 },
 "nbformat": 4,
 "nbformat_minor": 5
}
