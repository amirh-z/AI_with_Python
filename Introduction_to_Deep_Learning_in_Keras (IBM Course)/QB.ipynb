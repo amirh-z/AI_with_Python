{
 "cells": [
  {
   "cell_type": "markdown",
   "id": "7848345d-4e80-435e-aaba-e9561e7d1bd9",
   "metadata": {},
   "source": [
    "## QB"
   ]
  },
  {
   "cell_type": "markdown",
   "id": "12066213-e304-441d-9b8f-042375d10294",
   "metadata": {},
   "source": [
    "B. Normalize the data (5 marks) \n",
    "\n",
    "Repeat Part A but use a normalized version of the data. Recall that one way to normalize the data is by subtracting the mean from the individual predictors and dividing by the standard deviation.\n",
    "\n",
    "How does the mean of the mean squared errors compare to that from Step A?"
   ]
  },
  {
   "cell_type": "code",
   "execution_count": 1,
   "id": "22c3db4d-517d-4559-9a97-1d65a048d2e4",
   "metadata": {},
   "outputs": [
    {
     "name": "stderr",
     "output_type": "stream",
     "text": [
      "2024-03-06 22:30:34.517567: I tensorflow/core/platform/cpu_feature_guard.cc:182] This TensorFlow binary is optimized to use available CPU instructions in performance-critical operations.\n",
      "To enable the following instructions: AVX2 FMA, in other operations, rebuild TensorFlow with the appropriate compiler flags.\n"
     ]
    }
   ],
   "source": [
    "from keras.models import Sequential\n",
    "from keras.layers import Dense\n",
    "from sklearn.model_selection import train_test_split\n",
    "from sklearn.metrics import mean_squared_error\n",
    "import numpy as np\n",
    "import pandas as pd"
   ]
  },
  {
   "cell_type": "code",
   "execution_count": 3,
   "id": "abcbe8d2-2b8f-44d7-bcf9-63f49145a66e",
   "metadata": {},
   "outputs": [],
   "source": [
    "concrete_data = pd.read_csv('concrete_data.csv')"
   ]
  },
  {
   "cell_type": "code",
   "execution_count": 13,
   "id": "dcd0309f-9a12-40f0-8653-10f8f769928e",
   "metadata": {},
   "outputs": [],
   "source": [
    "concrete_data_columns = concrete_data.columns\n",
    "predictors = concrete_data[concrete_data_columns[concrete_data_columns != 'Strength']] # all columns except Strength\n",
    "target = concrete_data['Strength'] # Strength column\n",
    "predictors_norm = (predictors - predictors.mean()) / predictors.std()"
   ]
  },
  {
   "cell_type": "code",
   "execution_count": 14,
   "id": "8e94524c-a6dc-4bd9-82e9-55936d3c60a9",
   "metadata": {},
   "outputs": [],
   "source": [
    "n_cols = predictors.shape[1]\n",
    "# define regression model\n",
    "def regression_model():\n",
    "    # create model\n",
    "    model = Sequential()\n",
    "    model.add(Dense(10, activation='relu', input_shape=(n_cols,)))\n",
    "    model.add(Dense(1))\n",
    "    \n",
    "    # compile model\n",
    "    model.compile(optimizer='adam', loss='mean_squared_error')\n",
    "    return model"
   ]
  },
  {
   "cell_type": "code",
   "execution_count": 16,
   "id": "cbe719ea-4786-45be-ba25-cc36d4468698",
   "metadata": {},
   "outputs": [],
   "source": [
    "X_train, X_test, y_train, y_test = train_test_split(predictors_norm, target, test_size=0.3, random_state=42)"
   ]
  },
  {
   "cell_type": "code",
   "execution_count": 17,
   "id": "52a7e5e8-4371-4aac-9867-5ae46ec4f372",
   "metadata": {},
   "outputs": [],
   "source": [
    "model = regression_model()"
   ]
  },
  {
   "cell_type": "code",
   "execution_count": 18,
   "id": "21969e6d-ba7d-4686-8e58-10d817a4c6df",
   "metadata": {},
   "outputs": [
    {
     "name": "stdout",
     "output_type": "stream",
     "text": [
      "Epoch 1/50\n",
      "23/23 - 0s - loss: 1664.7120 - 371ms/epoch - 16ms/step\n",
      "Epoch 2/50\n",
      "23/23 - 0s - loss: 1648.3273 - 29ms/epoch - 1ms/step\n",
      "Epoch 3/50\n",
      "23/23 - 0s - loss: 1632.9395 - 29ms/epoch - 1ms/step\n",
      "Epoch 4/50\n",
      "23/23 - 0s - loss: 1618.3904 - 28ms/epoch - 1ms/step\n",
      "Epoch 5/50\n",
      "23/23 - 0s - loss: 1604.3743 - 30ms/epoch - 1ms/step\n",
      "Epoch 6/50\n",
      "23/23 - 0s - loss: 1590.5665 - 28ms/epoch - 1ms/step\n",
      "Epoch 7/50\n",
      "23/23 - 0s - loss: 1576.8788 - 24ms/epoch - 1ms/step\n",
      "Epoch 8/50\n",
      "23/23 - 0s - loss: 1563.1217 - 29ms/epoch - 1ms/step\n",
      "Epoch 9/50\n",
      "23/23 - 0s - loss: 1549.2980 - 27ms/epoch - 1ms/step\n",
      "Epoch 10/50\n",
      "23/23 - 0s - loss: 1534.9856 - 25ms/epoch - 1ms/step\n",
      "Epoch 11/50\n",
      "23/23 - 0s - loss: 1520.2710 - 30ms/epoch - 1ms/step\n",
      "Epoch 12/50\n",
      "23/23 - 0s - loss: 1504.7627 - 27ms/epoch - 1ms/step\n",
      "Epoch 13/50\n",
      "23/23 - 0s - loss: 1488.6697 - 27ms/epoch - 1ms/step\n",
      "Epoch 14/50\n",
      "23/23 - 0s - loss: 1471.4661 - 28ms/epoch - 1ms/step\n",
      "Epoch 15/50\n",
      "23/23 - 0s - loss: 1453.5554 - 34ms/epoch - 1ms/step\n",
      "Epoch 16/50\n",
      "23/23 - 0s - loss: 1434.5428 - 34ms/epoch - 1ms/step\n",
      "Epoch 17/50\n",
      "23/23 - 0s - loss: 1414.4415 - 29ms/epoch - 1ms/step\n",
      "Epoch 18/50\n",
      "23/23 - 0s - loss: 1393.4060 - 29ms/epoch - 1ms/step\n",
      "Epoch 19/50\n",
      "23/23 - 0s - loss: 1371.3615 - 28ms/epoch - 1ms/step\n",
      "Epoch 20/50\n",
      "23/23 - 0s - loss: 1348.7935 - 28ms/epoch - 1ms/step\n",
      "Epoch 21/50\n",
      "23/23 - 0s - loss: 1325.1740 - 28ms/epoch - 1ms/step\n",
      "Epoch 22/50\n",
      "23/23 - 0s - loss: 1300.6765 - 33ms/epoch - 1ms/step\n",
      "Epoch 23/50\n",
      "23/23 - 0s - loss: 1275.5321 - 37ms/epoch - 2ms/step\n",
      "Epoch 24/50\n",
      "23/23 - 0s - loss: 1249.8257 - 26ms/epoch - 1ms/step\n",
      "Epoch 25/50\n",
      "23/23 - 0s - loss: 1223.1963 - 30ms/epoch - 1ms/step\n",
      "Epoch 26/50\n",
      "23/23 - 0s - loss: 1196.6809 - 26ms/epoch - 1ms/step\n",
      "Epoch 27/50\n",
      "23/23 - 0s - loss: 1169.5028 - 25ms/epoch - 1ms/step\n",
      "Epoch 28/50\n",
      "23/23 - 0s - loss: 1141.9744 - 28ms/epoch - 1ms/step\n",
      "Epoch 29/50\n",
      "23/23 - 0s - loss: 1114.2622 - 26ms/epoch - 1ms/step\n",
      "Epoch 30/50\n",
      "23/23 - 0s - loss: 1086.6108 - 25ms/epoch - 1ms/step\n",
      "Epoch 31/50\n",
      "23/23 - 0s - loss: 1058.4263 - 30ms/epoch - 1ms/step\n",
      "Epoch 32/50\n",
      "23/23 - 0s - loss: 1030.8354 - 29ms/epoch - 1ms/step\n",
      "Epoch 33/50\n",
      "23/23 - 0s - loss: 1003.0219 - 25ms/epoch - 1ms/step\n",
      "Epoch 34/50\n",
      "23/23 - 0s - loss: 975.1818 - 25ms/epoch - 1ms/step\n",
      "Epoch 35/50\n",
      "23/23 - 0s - loss: 947.4276 - 29ms/epoch - 1ms/step\n",
      "Epoch 36/50\n",
      "23/23 - 0s - loss: 919.8152 - 29ms/epoch - 1ms/step\n",
      "Epoch 37/50\n",
      "23/23 - 0s - loss: 892.8618 - 26ms/epoch - 1ms/step\n",
      "Epoch 38/50\n",
      "23/23 - 0s - loss: 865.5712 - 33ms/epoch - 1ms/step\n",
      "Epoch 39/50\n",
      "23/23 - 0s - loss: 839.4186 - 26ms/epoch - 1ms/step\n",
      "Epoch 40/50\n",
      "23/23 - 0s - loss: 813.1360 - 28ms/epoch - 1ms/step\n",
      "Epoch 41/50\n",
      "23/23 - 0s - loss: 787.5989 - 28ms/epoch - 1ms/step\n",
      "Epoch 42/50\n",
      "23/23 - 0s - loss: 762.4249 - 23ms/epoch - 1ms/step\n",
      "Epoch 43/50\n",
      "23/23 - 0s - loss: 737.7762 - 31ms/epoch - 1ms/step\n",
      "Epoch 44/50\n",
      "23/23 - 0s - loss: 713.8556 - 27ms/epoch - 1ms/step\n",
      "Epoch 45/50\n",
      "23/23 - 0s - loss: 690.5758 - 24ms/epoch - 1ms/step\n",
      "Epoch 46/50\n",
      "23/23 - 0s - loss: 667.7094 - 27ms/epoch - 1ms/step\n",
      "Epoch 47/50\n",
      "23/23 - 0s - loss: 645.5289 - 31ms/epoch - 1ms/step\n",
      "Epoch 48/50\n",
      "23/23 - 0s - loss: 623.9853 - 25ms/epoch - 1ms/step\n",
      "Epoch 49/50\n",
      "23/23 - 0s - loss: 603.1955 - 27ms/epoch - 1ms/step\n",
      "Epoch 50/50\n",
      "23/23 - 0s - loss: 582.5961 - 26ms/epoch - 1ms/step\n"
     ]
    },
    {
     "data": {
      "text/plain": [
       "<keras.src.callbacks.History at 0x12c486590>"
      ]
     },
     "execution_count": 18,
     "metadata": {},
     "output_type": "execute_result"
    }
   ],
   "source": [
    "# fit the model\n",
    "epochs = 50\n",
    "model.fit(X_train, y_train, epochs=epochs, verbose=2)"
   ]
  },
  {
   "cell_type": "code",
   "execution_count": 19,
   "id": "b73bfc89-119d-44cd-9a99-624b7f55727c",
   "metadata": {},
   "outputs": [
    {
     "name": "stdout",
     "output_type": "stream",
     "text": [
      "10/10 [==============================] - 0s 1ms/step - loss: 528.4087\n",
      "10/10 [==============================] - 0s 1ms/step\n"
     ]
    },
    {
     "data": {
      "text/plain": [
       "528.40869140625"
      ]
     },
     "execution_count": 19,
     "metadata": {},
     "output_type": "execute_result"
    }
   ],
   "source": [
    "loss_val = model.evaluate(X_test, y_test)\n",
    "y_pred = model.predict(X_test)\n",
    "loss_val"
   ]
  },
  {
   "cell_type": "code",
   "execution_count": 20,
   "id": "ec6cced8-944c-4fa7-b742-2a440a784cf6",
   "metadata": {},
   "outputs": [
    {
     "name": "stdout",
     "output_type": "stream",
     "text": [
      "528.4086453606601 0.0\n"
     ]
    }
   ],
   "source": [
    "mean_square_error = mean_squared_error(y_test, y_pred)\n",
    "mean = np.mean(mean_square_error)\n",
    "standard_deviation = np.std(mean_square_error)\n",
    "print(mean, standard_deviation)"
   ]
  },
  {
   "cell_type": "code",
   "execution_count": 22,
   "id": "d3ac6d61-5c69-4ffa-b8d3-5a48f0dcc735",
   "metadata": {},
   "outputs": [
    {
     "name": "stdout",
     "output_type": "stream",
     "text": [
      "MSE 1: 31.551050186157227\n",
      "10/10 [==============================] - 0s 2ms/step\n",
      "MSE 2: 33.045433044433594\n",
      "10/10 [==============================] - 0s 1ms/step\n",
      "MSE 3: 26.02185821533203\n",
      "10/10 [==============================] - 0s 1ms/step\n",
      "MSE 4: 33.10148239135742\n",
      "10/10 [==============================] - 0s 2ms/step\n",
      "MSE 5: 31.374479293823242\n",
      "10/10 [==============================] - 0s 1ms/step\n",
      "MSE 6: 33.5564079284668\n",
      "10/10 [==============================] - 0s 1ms/step\n",
      "MSE 7: 37.34110641479492\n",
      "10/10 [==============================] - 0s 2ms/step\n",
      "MSE 8: 29.201316833496094\n",
      "10/10 [==============================] - 0s 2ms/step\n",
      "MSE 9: 29.980449676513672\n",
      "10/10 [==============================] - 0s 2ms/step\n",
      "MSE 10: 28.798664093017578\n",
      "10/10 [==============================] - 0s 2ms/step\n",
      "MSE 11: 31.687389373779297\n",
      "10/10 [==============================] - 0s 1ms/step\n",
      "MSE 12: 29.761655807495117\n",
      "10/10 [==============================] - 0s 2ms/step\n",
      "MSE 13: 36.55453109741211\n",
      "10/10 [==============================] - 0s 1ms/step\n",
      "MSE 14: 37.59456253051758\n",
      "10/10 [==============================] - 0s 7ms/step\n",
      "MSE 15: 31.21062469482422\n",
      "10/10 [==============================] - 0s 986us/step\n",
      "MSE 16: 27.290607452392578\n",
      "10/10 [==============================] - 0s 2ms/step\n",
      "MSE 17: 32.65322494506836\n",
      "10/10 [==============================] - 0s 2ms/step\n",
      "MSE 18: 31.19169044494629\n",
      "10/10 [==============================] - 0s 2ms/step\n",
      "MSE 19: 32.31660842895508\n",
      "10/10 [==============================] - 0s 2ms/step\n",
      "MSE 20: 31.975406646728516\n",
      "10/10 [==============================] - 0s 2ms/step\n",
      "MSE 21: 29.044742584228516\n",
      "10/10 [==============================] - 0s 2ms/step\n",
      "MSE 22: 29.62981605529785\n",
      "10/10 [==============================] - 0s 2ms/step\n",
      "MSE 23: 29.51900291442871\n",
      "10/10 [==============================] - 0s 1ms/step\n",
      "MSE 24: 30.196918487548828\n",
      "10/10 [==============================] - 0s 2ms/step\n",
      "MSE 25: 30.396778106689453\n",
      "10/10 [==============================] - 0s 1ms/step\n",
      "MSE 26: 33.32078170776367\n",
      "10/10 [==============================] - 0s 2ms/step\n",
      "MSE 27: 28.729848861694336\n",
      "10/10 [==============================] - 0s 2ms/step\n",
      "MSE 28: 30.376232147216797\n",
      "10/10 [==============================] - 0s 1ms/step\n",
      "MSE 29: 34.15244674682617\n",
      "10/10 [==============================] - 0s 2ms/step\n",
      "MSE 30: 34.013614654541016\n",
      "10/10 [==============================] - 0s 1ms/step\n",
      "MSE 31: 28.522613525390625\n",
      "10/10 [==============================] - 0s 2ms/step\n",
      "MSE 32: 26.644046783447266\n",
      "10/10 [==============================] - 0s 1ms/step\n",
      "MSE 33: 26.66058349609375\n",
      "10/10 [==============================] - 0s 2ms/step\n",
      "MSE 34: 30.70186996459961\n",
      "10/10 [==============================] - 0s 2ms/step\n",
      "MSE 35: 33.57752990722656\n",
      "10/10 [==============================] - 0s 2ms/step\n",
      "MSE 36: 36.157344818115234\n",
      "10/10 [==============================] - 0s 1ms/step\n",
      "MSE 37: 26.723417282104492\n",
      "10/10 [==============================] - 0s 2ms/step\n",
      "MSE 38: 32.35572052001953\n",
      "10/10 [==============================] - 0s 1ms/step\n",
      "MSE 39: 30.912864685058594\n",
      "10/10 [==============================] - 0s 1ms/step\n",
      "MSE 40: 25.7642822265625\n",
      "10/10 [==============================] - 0s 1ms/step\n",
      "MSE 41: 31.35454559326172\n",
      "10/10 [==============================] - 0s 2ms/step\n",
      "MSE 42: 27.496450424194336\n",
      "10/10 [==============================] - 0s 2ms/step\n",
      "MSE 43: 29.46921157836914\n",
      "10/10 [==============================] - 0s 1ms/step\n",
      "MSE 44: 36.20022964477539\n",
      "10/10 [==============================] - 0s 2ms/step\n",
      "MSE 45: 32.08137512207031\n",
      "10/10 [==============================] - 0s 2ms/step\n",
      "MSE 46: 31.762310028076172\n",
      "10/10 [==============================] - 0s 2ms/step\n",
      "MSE 47: 31.625972747802734\n",
      "10/10 [==============================] - 0s 1ms/step\n",
      "MSE 48: 32.10562515258789\n",
      "10/10 [==============================] - 0s 1ms/step\n",
      "MSE 49: 31.81165313720703\n",
      "10/10 [==============================] - 0s 2ms/step\n",
      "MSE 50: 33.25656509399414\n",
      "10/10 [==============================] - 0s 1ms/step\n",
      "\n",
      "\n",
      "Below is the mean and standard deviation of 50 mean squared errors with normalized data. Total number of epochs for each training session is: 50\n",
      "\n",
      "Mean: 31.215458365805105\n",
      "Standard Deviation: 2.819750189214202\n"
     ]
    }
   ],
   "source": [
    "total_mean_squared_errors = 50\n",
    "epochs = 50\n",
    "mean_squared_errors = []\n",
    "for i in range(0, total_mean_squared_errors):\n",
    "    X_train, X_test, y_train, y_test = train_test_split(predictors_norm, target, test_size=0.3, random_state=i)\n",
    "    model.fit(X_train, y_train, epochs=epochs, verbose=0)\n",
    "    MSE = model.evaluate(X_test, y_test, verbose=0)\n",
    "    print(\"MSE \"+str(i+1)+\": \"+str(MSE))\n",
    "    y_pred = model.predict(X_test)\n",
    "    mean_square_error = mean_squared_error(y_test, y_pred)\n",
    "    mean_squared_errors.append(mean_square_error)\n",
    "\n",
    "mean_squared_errors = np.array(mean_squared_errors)\n",
    "mean = np.mean(mean_squared_errors)\n",
    "standard_deviation = np.std(mean_squared_errors)\n",
    "\n",
    "print('\\n')\n",
    "print(\"Below is the mean and standard deviation of \" +str(total_mean_squared_errors) + \" mean squared errors with normalized data. Total number of epochs for each training session is: \" +str(epochs) + \"\\n\")\n",
    "print(\"Mean: \"+str(mean))\n",
    "print(\"Standard Deviation: \"+str(standard_deviation))"
   ]
  },
  {
   "cell_type": "markdown",
   "id": "302718a2-5052-4c76-a78f-5a0231dd640c",
   "metadata": {},
   "source": [
    "It seems that by normalizing the data, mean an std deviation decrease significantly."
   ]
  },
  {
   "cell_type": "code",
   "execution_count": null,
   "id": "4a9abded-78e7-47ab-8f77-a12348a884de",
   "metadata": {},
   "outputs": [],
   "source": []
  }
 ],
 "metadata": {
  "kernelspec": {
   "display_name": "Python 3 (ipykernel)",
   "language": "python",
   "name": "python3"
  },
  "language_info": {
   "codemirror_mode": {
    "name": "ipython",
    "version": 3
   },
   "file_extension": ".py",
   "mimetype": "text/x-python",
   "name": "python",
   "nbconvert_exporter": "python",
   "pygments_lexer": "ipython3",
   "version": "3.11.4"
  }
 },
 "nbformat": 4,
 "nbformat_minor": 5
}
