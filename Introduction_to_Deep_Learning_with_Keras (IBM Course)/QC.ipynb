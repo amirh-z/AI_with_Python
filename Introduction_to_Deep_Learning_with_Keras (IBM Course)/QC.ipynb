{
 "cells": [
  {
   "cell_type": "markdown",
   "id": "e3823c6d-0f48-40b4-a8fc-a8b8b2578822",
   "metadata": {},
   "source": [
    "## QC"
   ]
  },
  {
   "cell_type": "markdown",
   "id": "883ec29b-767a-4abb-b1a3-db5ec0cba2d4",
   "metadata": {},
   "source": [
    "C. Increase the number of epochs (5 marks)\n",
    "\n",
    "Repeat Part B but use 100 epochs this time for training.\n",
    "\n",
    "How does the mean of the mean squared errors compare to that from Step B?"
   ]
  },
  {
   "cell_type": "code",
   "execution_count": 1,
   "id": "95956552-9b07-47dc-b289-3bfeb8885fa2",
   "metadata": {},
   "outputs": [
    {
     "name": "stderr",
     "output_type": "stream",
     "text": [
      "2024-03-06 22:39:31.245696: I tensorflow/core/platform/cpu_feature_guard.cc:182] This TensorFlow binary is optimized to use available CPU instructions in performance-critical operations.\n",
      "To enable the following instructions: AVX2 FMA, in other operations, rebuild TensorFlow with the appropriate compiler flags.\n"
     ]
    }
   ],
   "source": [
    "from keras.models import Sequential\n",
    "from keras.layers import Dense\n",
    "from sklearn.model_selection import train_test_split\n",
    "from sklearn.metrics import mean_squared_error\n",
    "import numpy as np\n",
    "import pandas as pd"
   ]
  },
  {
   "cell_type": "code",
   "execution_count": 2,
   "id": "5f1055ec-27b8-46d0-804c-46c99ca0cc31",
   "metadata": {},
   "outputs": [],
   "source": [
    "concrete_data = pd.read_csv('concrete_data.csv')"
   ]
  },
  {
   "cell_type": "code",
   "execution_count": 3,
   "id": "008b010a-1488-4c69-a06b-d2d3d2233ff7",
   "metadata": {},
   "outputs": [],
   "source": [
    "concrete_data_columns = concrete_data.columns\n",
    "predictors = concrete_data[concrete_data_columns[concrete_data_columns != 'Strength']] # all columns except Strength\n",
    "target = concrete_data['Strength'] # Strength column\n",
    "predictors_norm = (predictors - predictors.mean()) / predictors.std()"
   ]
  },
  {
   "cell_type": "code",
   "execution_count": 4,
   "id": "67e4c3af-afbc-4f7f-83d7-26cab328eb19",
   "metadata": {},
   "outputs": [],
   "source": [
    "n_cols = predictors.shape[1]\n",
    "# define regression model\n",
    "def regression_model():\n",
    "    # create model\n",
    "    model = Sequential()\n",
    "    model.add(Dense(10, activation='relu', input_shape=(n_cols,)))\n",
    "    model.add(Dense(1))\n",
    "    \n",
    "    # compile model\n",
    "    model.compile(optimizer='adam', loss='mean_squared_error')\n",
    "    return model"
   ]
  },
  {
   "cell_type": "code",
   "execution_count": 5,
   "id": "1f25042f-0809-4a47-89fe-9a1659e604e2",
   "metadata": {},
   "outputs": [],
   "source": [
    "X_train, X_test, y_train, y_test = train_test_split(predictors_norm, target, test_size=0.3, random_state=42)"
   ]
  },
  {
   "cell_type": "code",
   "execution_count": 6,
   "id": "7bfaad9b-e6fd-4441-b0ce-fdf1fd705a21",
   "metadata": {},
   "outputs": [],
   "source": [
    "model = regression_model()"
   ]
  },
  {
   "cell_type": "code",
   "execution_count": 14,
   "id": "7b60f053-06aa-4776-879c-2b241a844840",
   "metadata": {},
   "outputs": [
    {
     "name": "stdout",
     "output_type": "stream",
     "text": [
      "MSE 1: 32.333282470703125\n",
      "10/10 [==============================] - 0s 876us/step\n",
      "MSE 2: 35.37627410888672\n",
      "10/10 [==============================] - 0s 847us/step\n",
      "MSE 3: 27.10738754272461\n",
      "10/10 [==============================] - 0s 1ms/step\n",
      "MSE 4: 31.044504165649414\n",
      "10/10 [==============================] - 0s 1ms/step\n",
      "MSE 5: 31.942710876464844\n",
      "10/10 [==============================] - 0s 2ms/step\n",
      "MSE 6: 34.04851150512695\n",
      "10/10 [==============================] - 0s 1ms/step\n",
      "MSE 7: 38.16181564331055\n",
      "10/10 [==============================] - 0s 2ms/step\n",
      "MSE 8: 27.2132568359375\n",
      "10/10 [==============================] - 0s 2ms/step\n",
      "MSE 9: 33.09309768676758\n",
      "10/10 [==============================] - 0s 3ms/step\n",
      "MSE 10: 27.99692153930664\n",
      "10/10 [==============================] - 0s 2ms/step\n",
      "MSE 11: 30.635284423828125\n",
      "10/10 [==============================] - 0s 4ms/step\n",
      "MSE 12: 28.90508460998535\n",
      "10/10 [==============================] - 0s 2ms/step\n",
      "MSE 13: 35.81330108642578\n",
      "10/10 [==============================] - 0s 3ms/step\n",
      "MSE 14: 36.78200149536133\n",
      "10/10 [==============================] - 0s 3ms/step\n",
      "MSE 15: 31.097126007080078\n",
      "10/10 [==============================] - 0s 2ms/step\n",
      "MSE 16: 28.76997947692871\n",
      "10/10 [==============================] - 0s 1ms/step\n",
      "MSE 17: 31.597688674926758\n",
      "10/10 [==============================] - 0s 2ms/step\n",
      "MSE 18: 31.86920738220215\n",
      "10/10 [==============================] - 0s 2ms/step\n",
      "MSE 19: 30.242534637451172\n",
      "10/10 [==============================] - 0s 2ms/step\n",
      "MSE 20: 32.29600143432617\n",
      "10/10 [==============================] - 0s 1ms/step\n",
      "MSE 21: 29.723684310913086\n",
      "10/10 [==============================] - 0s 2ms/step\n",
      "MSE 22: 30.028484344482422\n",
      "10/10 [==============================] - 0s 1ms/step\n",
      "MSE 23: 27.539628982543945\n",
      "10/10 [==============================] - 0s 1ms/step\n",
      "MSE 24: 29.250471115112305\n",
      "10/10 [==============================] - 0s 2ms/step\n",
      "MSE 25: 31.165266036987305\n",
      "10/10 [==============================] - 0s 2ms/step\n",
      "MSE 26: 33.28370666503906\n",
      "10/10 [==============================] - 0s 1ms/step\n",
      "MSE 27: 29.867509841918945\n",
      "10/10 [==============================] - 0s 2ms/step\n",
      "MSE 28: 31.154714584350586\n",
      "10/10 [==============================] - 0s 1ms/step\n",
      "MSE 29: 35.04718780517578\n",
      "10/10 [==============================] - 0s 1ms/step\n",
      "MSE 30: 34.57906723022461\n",
      "10/10 [==============================] - 0s 2ms/step\n",
      "MSE 31: 28.48345184326172\n",
      "10/10 [==============================] - 0s 1ms/step\n",
      "MSE 32: 29.871503829956055\n",
      "10/10 [==============================] - 0s 1ms/step\n",
      "MSE 33: 28.262296676635742\n",
      "10/10 [==============================] - 0s 808us/step\n",
      "MSE 34: 31.360963821411133\n",
      "10/10 [==============================] - 0s 1ms/step\n",
      "MSE 35: 34.61268615722656\n",
      "10/10 [==============================] - 0s 826us/step\n",
      "MSE 36: 37.79499053955078\n",
      "10/10 [==============================] - 0s 1ms/step\n",
      "MSE 37: 26.214027404785156\n",
      "10/10 [==============================] - 0s 912us/step\n",
      "MSE 38: 33.679954528808594\n",
      "10/10 [==============================] - 0s 910us/step\n",
      "MSE 39: 30.80339241027832\n",
      "10/10 [==============================] - 0s 857us/step\n",
      "MSE 40: 28.5998592376709\n",
      "10/10 [==============================] - 0s 1ms/step\n",
      "MSE 41: 32.19091033935547\n",
      "10/10 [==============================] - 0s 915us/step\n",
      "MSE 42: 26.387109756469727\n",
      "10/10 [==============================] - 0s 836us/step\n",
      "MSE 43: 31.944351196289062\n",
      "10/10 [==============================] - 0s 925us/step\n",
      "MSE 44: 34.11945343017578\n",
      "10/10 [==============================] - 0s 813us/step\n",
      "MSE 45: 33.86487579345703\n",
      "10/10 [==============================] - 0s 1ms/step\n",
      "MSE 46: 32.889976501464844\n",
      "10/10 [==============================] - 0s 831us/step\n",
      "MSE 47: 29.569360733032227\n",
      "10/10 [==============================] - 0s 808us/step\n",
      "MSE 48: 30.802305221557617\n",
      "10/10 [==============================] - 0s 918us/step\n",
      "MSE 49: 32.64474868774414\n",
      "10/10 [==============================] - 0s 946us/step\n",
      "MSE 50: 34.53188705444336\n",
      "10/10 [==============================] - 0s 964us/step\n",
      "\n",
      "\n",
      "Below is the mean and standard deviation of 50 mean squared errors with normalized data. Total number of epochs for each training session is: 100\n",
      "\n",
      "Mean: 31.531875481554607\n",
      "Standard Deviation: 2.851927775322475\n"
     ]
    }
   ],
   "source": [
    "total_mean_squared_errors = 50\n",
    "epochs = 100\n",
    "mean_squared_errors = []\n",
    "for i in range(0, total_mean_squared_errors):\n",
    "    X_train, X_test, y_train, y_test = train_test_split(predictors_norm, target, test_size=0.3, random_state=i)\n",
    "    model.fit(X_train, y_train, epochs=epochs, verbose=0)\n",
    "    MSE = model.evaluate(X_test, y_test, verbose=0)\n",
    "    print(\"MSE \"+str(i+1)+\": \"+str(MSE))\n",
    "    y_pred = model.predict(X_test)\n",
    "    mean_square_error = mean_squared_error(y_test, y_pred)\n",
    "    mean_squared_errors.append(mean_square_error)\n",
    "\n",
    "mean_squared_errors = np.array(mean_squared_errors)\n",
    "mean = np.mean(mean_squared_errors)\n",
    "standard_deviation = np.std(mean_squared_errors)\n",
    "\n",
    "print('\\n')\n",
    "print(\"Below is the mean and standard deviation of \" +str(total_mean_squared_errors) + \" mean squared errors with normalized data. Total number of epochs for each training session is: \" +str(epochs) + \"\\n\")\n",
    "print(\"Mean: \"+str(mean))\n",
    "print(\"Standard Deviation: \"+str(standard_deviation))"
   ]
  },
  {
   "cell_type": "markdown",
   "id": "9e5fd8fb-b009-450a-a348-477b8c87b3c6",
   "metadata": {},
   "source": [
    "It seems that increasing number of epoches from 50 to 100 does not affect mean and std deviation noticeably."
   ]
  },
  {
   "cell_type": "code",
   "execution_count": null,
   "id": "97e3689b-2466-44d7-b577-a532f9c4ab93",
   "metadata": {},
   "outputs": [],
   "source": []
  }
 ],
 "metadata": {
  "kernelspec": {
   "display_name": "Python 3 (ipykernel)",
   "language": "python",
   "name": "python3"
  },
  "language_info": {
   "codemirror_mode": {
    "name": "ipython",
    "version": 3
   },
   "file_extension": ".py",
   "mimetype": "text/x-python",
   "name": "python",
   "nbconvert_exporter": "python",
   "pygments_lexer": "ipython3",
   "version": "3.11.4"
  }
 },
 "nbformat": 4,
 "nbformat_minor": 5
}
